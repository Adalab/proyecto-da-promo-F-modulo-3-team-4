{
 "cells": [
  {
   "cell_type": "code",
   "execution_count": null,
   "metadata": {},
   "outputs": [],
   "source": [
    "import pandas as pd\n",
    "import numpy as np"
   ]
  },
  {
   "cell_type": "code",
   "execution_count": null,
   "metadata": {},
   "outputs": [],
   "source": [
    "df = pd.read_csv(\"../data/HR_RAW_DATA.csv\",index_col=0)\n",
    "df"
   ]
  },
  {
   "cell_type": "markdown",
   "metadata": {},
   "source": [
    "pd.set_option('display.max_columns', None)pd.set_option('display.max_rows', None)"
   ]
  },
  {
   "cell_type": "code",
   "execution_count": null,
   "metadata": {},
   "outputs": [],
   "source": [
    "pd.set_option('display.max_columns', None)\n",
    "#pd.set_option('display.max_rows', None)"
   ]
  },
  {
   "cell_type": "code",
   "execution_count": null,
   "metadata": {},
   "outputs": [],
   "source": [
    "df.info()"
   ]
  },
  {
   "cell_type": "code",
   "execution_count": null,
   "metadata": {},
   "outputs": [],
   "source": [
    "df.head(10)"
   ]
  },
  {
   "cell_type": "code",
   "execution_count": null,
   "metadata": {},
   "outputs": [],
   "source": [
    "df.describe ().T"
   ]
  },
  {
   "cell_type": "code",
   "execution_count": null,
   "metadata": {},
   "outputs": [],
   "source": [
    "df.describe (include=\"object\").T   #"
   ]
  },
  {
   "cell_type": "code",
   "execution_count": null,
   "metadata": {},
   "outputs": [],
   "source": [
    "df.duplicated().sum()"
   ]
  },
  {
   "cell_type": "code",
   "execution_count": null,
   "metadata": {},
   "outputs": [],
   "source": [
    "df[\"Age\"].value_counts() ##Hay valores no numéricos como fifty-eight. Hacer un replace de estos y cambiarlos a números."
   ]
  },
  {
   "cell_type": "code",
   "execution_count": null,
   "metadata": {},
   "outputs": [],
   "source": [
    "df['Age'] = df['Age'].replace(['fifty_five'], '55') \n",
    "df['Age'].value_counts()"
   ]
  },
  {
   "cell_type": "code",
   "execution_count": null,
   "metadata": {},
   "outputs": [],
   "source": [
    "nuevas_columnas = {columna: columna.lower()for columna in df.columns}\n",
    "\n",
    "df.rename (columns=nuevas_columnas, inplace= True)\n",
    "\n",
    "df.columns"
   ]
  },
  {
   "cell_type": "code",
   "execution_count": null,
   "metadata": {},
   "outputs": [],
   "source": [
    "# Crear un diccionario con el cambio de edades a valores numéricos\n",
    "edades_cambio =  {'fifty-five': '55', 'thirty-six': '36', 'forty-seven': '47', 'twenty-four': '24', 'thirty-seven': '37', 'fifty-two': '52', 'fifty-eight': '58', 'twenty-six': '26', 'thirty-one': '31', 'thirty': '30', 'thirty-two': '32'} \n",
    "\n",
    "\n",
    "# Reemplazar las edades en la columna \"Age\" utilizando el diccionario\n",
    "df['age'] = df['age'].replace(edades_cambio)\n",
    "\n",
    "# Contar las ocurrencias de cada edad en la columna \"Age\"\n",
    "conteo_edades = df['age'].value_counts()\n",
    "\n",
    "# Imprimir el resultado\n",
    "print(conteo_edades)\n"
   ]
  },
  {
   "cell_type": "code",
   "execution_count": null,
   "metadata": {},
   "outputs": [],
   "source": [
    "df['age']=df['age'].apply(pd.to_numeric)\n"
   ]
  },
  {
   "cell_type": "code",
   "execution_count": null,
   "metadata": {},
   "outputs": [],
   "source": [
    "df.describe().T"
   ]
  },
  {
   "cell_type": "code",
   "execution_count": null,
   "metadata": {},
   "outputs": [],
   "source": [
    "df.info()"
   ]
  },
  {
   "cell_type": "code",
   "execution_count": null,
   "metadata": {},
   "outputs": [],
   "source": [
    "df['attrition'].value_counts()"
   ]
  },
  {
   "cell_type": "code",
   "execution_count": null,
   "metadata": {},
   "outputs": [],
   "source": [
    "df['businesstravel'].value_counts()"
   ]
  },
  {
   "cell_type": "code",
   "execution_count": null,
   "metadata": {},
   "outputs": [],
   "source": [
    "df['businesstravel']=df['businesstravel'].str.replace(\"-\",\"_\")"
   ]
  },
  {
   "cell_type": "code",
   "execution_count": null,
   "metadata": {},
   "outputs": [],
   "source": [
    "df['businesstravel']=df['businesstravel'].replace(np.nan, \"desconocido\")\n",
    "\n",
    "df['businesstravel']"
   ]
  },
  {
   "cell_type": "code",
   "execution_count": null,
   "metadata": {},
   "outputs": [],
   "source": [
    "df.rename(columns={\"businesstravel\": \"business_travel\"}, inplace=True)"
   ]
  },
  {
   "cell_type": "code",
   "execution_count": null,
   "metadata": {},
   "outputs": [],
   "source": [
    "df.info()"
   ]
  },
  {
   "cell_type": "code",
   "execution_count": null,
   "metadata": {},
   "outputs": [],
   "source": [
    "df['dailyrate'].value_counts()"
   ]
  },
  {
   "cell_type": "code",
   "execution_count": null,
   "metadata": {},
   "outputs": [],
   "source": [
    "df.rename(columns={\"dailyrate\": \"daily_rate\"}, inplace=True)\n",
    "df"
   ]
  },
  {
   "cell_type": "code",
   "execution_count": null,
   "metadata": {},
   "outputs": [],
   "source": [
    "df['daily_rate']=df['daily_rate'].str.replace (\"$\", \"\").str.replace (\",\", \".\")\n",
    "df['daily_rate']"
   ]
  },
  {
   "cell_type": "code",
   "execution_count": null,
   "metadata": {},
   "outputs": [],
   "source": [
    "df['daily_rate'].isnull().sum()"
   ]
  },
  {
   "cell_type": "code",
   "execution_count": null,
   "metadata": {},
   "outputs": [],
   "source": [
    "df['daily_rate']=df['daily_rate'].replace (\"nan\", np.nan)\n",
    "df['daily_rate']"
   ]
  },
  {
   "cell_type": "code",
   "execution_count": null,
   "metadata": {},
   "outputs": [],
   "source": [
    "df['daily_rate'].isnull().sum()"
   ]
  },
  {
   "cell_type": "code",
   "execution_count": null,
   "metadata": {},
   "outputs": [],
   "source": [
    "df['daily_rate']=df['daily_rate'].apply(pd.to_numeric)\n",
    "df['daily_rate']"
   ]
  },
  {
   "cell_type": "code",
   "execution_count": null,
   "metadata": {},
   "outputs": [],
   "source": [
    "df.info()"
   ]
  },
  {
   "cell_type": "code",
   "execution_count": null,
   "metadata": {},
   "outputs": [],
   "source": [
    "df['department'].value_counts()"
   ]
  },
  {
   "cell_type": "code",
   "execution_count": null,
   "metadata": {},
   "outputs": [],
   "source": [
    "df['department']=df['department'].str.lower().str.replace(\"research & development\",\"research_development\").str.replace(\"human resources\", \"human_resources\")\n",
    "\n",
    "df['department'].value_counts()"
   ]
  },
  {
   "cell_type": "code",
   "execution_count": null,
   "metadata": {},
   "outputs": [],
   "source": [
    "df['department']=df['department'].replace (np.nan, \"desconocido\")"
   ]
  },
  {
   "cell_type": "code",
   "execution_count": null,
   "metadata": {},
   "outputs": [],
   "source": [
    "df.info()"
   ]
  },
  {
   "cell_type": "code",
   "execution_count": null,
   "metadata": {},
   "outputs": [],
   "source": [
    "df.rename (columns={\"distancefromhome\": \"distance_from_home\", \n",
    "                    \"educationfield\": \"education_field\", \n",
    "                    \"employeecount\": \"employee_count\",\n",
    "                    \"employeenumber\": \"employee_number\",\n",
    "                    \"environmentsatisfaction\": \"environment_satisfaction\",\n",
    "                    \"hourlyrate\": \"hourly_rate\", \n",
    "                    \"jobinvolvement\": \"job_involvement\",\n",
    "                    \"joblevel\": \"job_level\",\n",
    "                    \"jobrole\": \"job_role\",\n",
    "                    \"jobsatisfaction\": \"job_satisfaction\",\n",
    "                    \"maritalstatus\": \"marital_status\",\n",
    "                    \"monthlyincome\": \"monthly_income\",\n",
    "                    \"monthlyrate\": \" monthly_rate\",\n",
    "                    \"numcompaniesworked\": \"num_companies_worked\",\n",
    "                    \"over18\": \"over_18\",\n",
    "                    \"percentsalaryhike\": \"percent_salary_hike\",\n",
    "                    \"performancerating\": \"performance_rating\",\n",
    "                    \"relationshipsatisfaction\": \"relationship_satisfaction\",\n",
    "                    \"standardhours\": \"standard_hours\",\n",
    "                    \"stockoptionlevel\": \"stock_option_level\",\n",
    "                    \"totalworkingyears\": \"total_working_years\",\n",
    "                    \"trainingtimeslastyear\": \"training_times_last_year\",\n",
    "                    \"worklifebalance\": \"work_life_balance\",\n",
    "                    \"yearsatcompany\": \"years_at_company\",\n",
    "                    \"yearsincurrentrole\": \"years_in_current_role\",\n",
    "                    \"yearssincelastpromotion\": \"years_since_last_promotion\",\n",
    "                    \"yearswithcurrmanager\": \"years_with_curr_manager\",\n",
    "                    \"sameasmonthlyincome\": \"same_as_monthly_income\",\n",
    "                    \"datebirth\": \"date_birth\",\n",
    "                    \"roledepartament\": \"role_departament\",\n",
    "                    \"numberchildren\": \"number_children\",\n",
    "                    \"remotework\": \"remote_work\"}, inplace= True)"
   ]
  },
  {
   "cell_type": "code",
   "execution_count": null,
   "metadata": {},
   "outputs": [],
   "source": [
    "df[\"distance_from_home\"].value_counts()\n",
    "pd.set_option('display.max_rows', 70)\n"
   ]
  },
  {
   "cell_type": "code",
   "execution_count": null,
   "metadata": {},
   "outputs": [],
   "source": [
    "df[\"distance_from_home\"].value_counts()"
   ]
  },
  {
   "cell_type": "code",
   "execution_count": null,
   "metadata": {},
   "outputs": [],
   "source": [
    "def positive(numero):\n",
    "    if numero <0:\n",
    "        return -numero\n",
    "    else:\n",
    "        return numero\n",
    "      "
   ]
  },
  {
   "cell_type": "code",
   "execution_count": null,
   "metadata": {},
   "outputs": [],
   "source": [
    "df[\"distance_from_home\"]= df[\"distance_from_home\"].apply(positive)"
   ]
  },
  {
   "cell_type": "code",
   "execution_count": null,
   "metadata": {},
   "outputs": [],
   "source": [
    "df.head()"
   ]
  },
  {
   "cell_type": "code",
   "execution_count": null,
   "metadata": {},
   "outputs": [],
   "source": [
    "df[\"distance_from_home\"].describe()"
   ]
  },
  {
   "cell_type": "code",
   "execution_count": null,
   "metadata": {},
   "outputs": [],
   "source": [
    "df[[\"education\", \"education_field\" ]]\n",
    "pd.set_option('display.max_rows', 100)\n"
   ]
  },
  {
   "cell_type": "code",
   "execution_count": null,
   "metadata": {},
   "outputs": [],
   "source": [
    "df[[\"education\", \"education_field\" ]]"
   ]
  },
  {
   "cell_type": "code",
   "execution_count": null,
   "metadata": {},
   "outputs": [],
   "source": [
    "df[\"education\"].describe()"
   ]
  },
  {
   "cell_type": "code",
   "execution_count": null,
   "metadata": {},
   "outputs": [],
   "source": [
    "df[\"education\"].value_counts()"
   ]
  },
  {
   "cell_type": "code",
   "execution_count": null,
   "metadata": {},
   "outputs": [],
   "source": [
    "df[\"education_field\"].value_counts()"
   ]
  },
  {
   "cell_type": "code",
   "execution_count": null,
   "metadata": {},
   "outputs": [],
   "source": [
    "df[\"education_field\"]=df[\"education_field\"].replace(np.nan, \"desconocido\")\n",
    "\n",
    "df[\"education_field\"]"
   ]
  },
  {
   "cell_type": "code",
   "execution_count": null,
   "metadata": {},
   "outputs": [],
   "source": [
    "df[\"education_field\"]=df[\"education_field\"].str.lower().str.replace(\"research & development\",\"research_development\").str.replace(\"human resources\", \"human_resources\")\n",
    "\n",
    "df[\"education_field\"].value_counts()"
   ]
  },
  {
   "cell_type": "code",
   "execution_count": null,
   "metadata": {},
   "outputs": [],
   "source": [
    "dict_education= {\"Life Sciences\":\"life_sciences\",\n",
    "                 \"Medical\"  :\"medical\",\n",
    "                 \"Marketing\": \"marketing\",\n",
    "                 \"Technical Degree\" : \"technical_degree\",\n",
    "                 \"Other\": \"other\",\n",
    "                 \"Human Resources\": \"human_resources\",\n",
    "                 \"desconocido\": \"desconocido\"}\n",
    "                 "
   ]
  },
  {
   "cell_type": "code",
   "execution_count": null,
   "metadata": {},
   "outputs": [],
   "source": [
    "df[\"education_field\"]=df[\"education_field\"].map (dict_education)\n",
    "df[\"education_field\"]"
   ]
  },
  {
   "cell_type": "code",
   "execution_count": null,
   "metadata": {},
   "outputs": [],
   "source": [
    "df.info()"
   ]
  },
  {
   "cell_type": "code",
   "execution_count": null,
   "metadata": {},
   "outputs": [],
   "source": [
    "df.drop(\"employee_count\", axis=1, inplace= True)"
   ]
  },
  {
   "cell_type": "code",
   "execution_count": null,
   "metadata": {},
   "outputs": [],
   "source": [
    "df.info()"
   ]
  },
  {
   "cell_type": "code",
   "execution_count": null,
   "metadata": {},
   "outputs": [],
   "source": [
    "\n",
    "#pd.set_option('display.max_rows', None)\n",
    "df[\"employee_number\"].value_counts()"
   ]
  },
  {
   "cell_type": "code",
   "execution_count": null,
   "metadata": {},
   "outputs": [],
   "source": [
    "df[\"employee_number\"].value_counts()\n",
    "df[[\"attrition\",\"employee_number\"]].sort_values(by=\"employee_number\")"
   ]
  },
  {
   "cell_type": "code",
   "execution_count": null,
   "metadata": {},
   "outputs": [],
   "source": [
    "df[\"employee_number\"]==424"
   ]
  },
  {
   "cell_type": "code",
   "execution_count": null,
   "metadata": {},
   "outputs": [],
   "source": [
    "df[df[\"employee_number\"]==\"424,0\"]"
   ]
  },
  {
   "cell_type": "code",
   "execution_count": null,
   "metadata": {},
   "outputs": [],
   "source": [
    "df.duplicated().index #filas que tienen duplicados"
   ]
  },
  {
   "cell_type": "code",
   "execution_count": 58,
   "metadata": {},
   "outputs": [
    {
     "data": {
      "text/plain": [
       "4     460\n",
       "3     459\n",
       "1     298\n",
       "2     297\n",
       "12      7\n",
       "35      6\n",
       "13      6\n",
       "14      5\n",
       "24      5\n",
       "47      5\n",
       "36      4\n",
       "48      4\n",
       "41      4\n",
       "46      4\n",
       "42      4\n",
       "45      3\n",
       "11      3\n",
       "22      3\n",
       "17      3\n",
       "18      3\n",
       "20      3\n",
       "25      3\n",
       "27      3\n",
       "37      2\n",
       "29      2\n",
       "19      2\n",
       "38      2\n",
       "31      2\n",
       "15      2\n",
       "16      2\n",
       "26      1\n",
       "39      1\n",
       "10      1\n",
       "49      1\n",
       "21      1\n",
       "28      1\n",
       "33      1\n",
       "43      1\n",
       "Name: environment_satisfaction, dtype: int64"
      ]
     },
     "execution_count": 58,
     "metadata": {},
     "output_type": "execute_result"
    }
   ],
   "source": [
    "df[\"environment_satisfaction\"].value_counts()"
   ]
  }
 ],
 "metadata": {
  "kernelspec": {
   "display_name": "base",
   "language": "python",
   "name": "python3"
  },
  "language_info": {
   "codemirror_mode": {
    "name": "ipython",
    "version": 3
   },
   "file_extension": ".py",
   "mimetype": "text/x-python",
   "name": "python",
   "nbconvert_exporter": "python",
   "pygments_lexer": "ipython3",
   "version": "3.9.7"
  }
 },
 "nbformat": 4,
 "nbformat_minor": 2
}
