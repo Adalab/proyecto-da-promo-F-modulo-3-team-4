{
 "cells": [
  {
   "cell_type": "code",
   "execution_count": null,
   "metadata": {},
   "outputs": [],
   "source": [
    "#!pip install mysql-connector\n",
    "#!pip install mysql-connector-python"
   ]
  },
  {
   "cell_type": "code",
   "execution_count": null,
   "metadata": {},
   "outputs": [],
   "source": [
    "# Importar librería para la conexión con MySQL\n",
    "# -----------------------------------------------------------------------\n",
    "import mysql.connector\n",
    "from mysql.connector import errorcode\n",
    "import os\n",
    "# Importar librerías para manipulación y análisis de datos\n",
    "# -----------------------------------------------------------------------\n",
    "import pandas as pd\n",
    "import numpy as np"
   ]
  },
  {
   "cell_type": "code",
   "execution_count": null,
   "metadata": {},
   "outputs": [],
   "source": [
    "# leemos el csv en un dataframe\n",
    "df_empleados = pd.read_csv(f'../data/datos_empleados.csv', index_col=0)"
   ]
  },
  {
   "cell_type": "markdown",
   "metadata": {},
   "source": [
    "employee_number (PK,FK)\n",
    "\n",
    "Tabla de datos personales: employee_number (PK, FK), age, date_birth, gender, marital_status,distance_from_home, num_companies_worked, total_working_years, education, education_field,\n",
    "\n",
    "Tabla de valoraciones: employee_number (PK, FK), environment_satisfaction, job_involvement, job_satisfaction, performance_rating, relationship_satisfaction, work_life_balance\n",
    "\n",
    "Tabla de salarios:employee_number (PK, FK), monthly_rate, percent_salary_hike, hourly_rate, daily_rate, monthly_income\n",
    "\n",
    "Gestión interna de la empresa: employee_number (PK, FK),attrition, business_travel, department, job_level, job_role, overtime, stock_option_level, training_times_last_year, years_at_company, years_since_last_promotion, years_with_curr_manager, remote_work\n",
    "\n",
    "\n"
   ]
  },
  {
   "cell_type": "code",
   "execution_count": null,
   "metadata": {},
   "outputs": [],
   "source": [
    "df_empleados.info()"
   ]
  },
  {
   "cell_type": "code",
   "execution_count": null,
   "metadata": {},
   "outputs": [],
   "source": [
    "#poner orden columnas segun tablas de la bbdd\n",
    "\n",
    "##Datos personales\n",
    "orden_datos_personales = ['employee_number', 'age', 'date_birth', 'gender', 'marital_status', 'distance_from_home', 'num_companies_worked', 'total_working_years', 'education', 'education_field']\n",
    "df_datos_personales = df_empleados.reindex(columns = orden_datos_personales)\n",
    "lista_tuplas_datos_personales = [tuple (fila) for fila in df_datos_personales.values]\n",
    "\n",
    "##Valoraciones\n",
    "orden_valoraciones = ['employee_number', 'environment_satisfaction', 'job_involvement', 'job_satisfaction', 'performance_rating', 'relationship_satisfaction', 'work_life_balance']\n",
    "df_valoraciones = df_empleados.reindex(columns = orden_valoraciones)\n",
    "lista_tuplas_valoraciones = [tuple (fila) for fila in df_valoraciones.values]\n",
    "\n",
    "##Salarios\n",
    "orden_salarios = ['employee_number', 'monthly_rate', 'percent_salary_hike', 'hourly_rate', 'daily_rate', 'monthly_income']\n",
    "df_salarios = df_empleados.reindex(columns = orden_salarios)\n",
    "lista_tuplas_salarios = [tuple (fila) for fila in df_salarios.values]\n",
    "\n",
    "##Gestión interna de la empresa\n",
    "orden_empresa = ['employee_number', 'attrition', 'business_travel', 'department', 'job_level', 'job_role', 'overtime', 'stock_option_level', 'training_times_last_year', 'years_at_company', 'years_since_last_promotion', 'years_with_curr_manager', 'remote_work']\n",
    "df_empresa = df_empleados.reindex(columns = orden_empresa)\n",
    "lista_tuplas_empresa = [tuple (fila) for fila in df_empresa.values]\n"
   ]
  },
  {
   "cell_type": "code",
   "execution_count": null,
   "metadata": {},
   "outputs": [],
   "source": [
    "print(f\"Datos personales:\\n{df_datos_personales}\")\n",
    "print(\"------------------------------------\")\n",
    "print(f\"Valoraciones:\\n{df_valoraciones}\")\n",
    "print(\"------------------------------------\")\n",
    "print(f\"Salarios:\\n{df_salarios}\")\n",
    "print(\"------------------------------------\")\n",
    "print(f\"Empresa:\\n{df_empresa}\")"
   ]
  },
  {
   "cell_type": "code",
   "execution_count": null,
   "metadata": {},
   "outputs": [],
   "source": [
    "print(f\"Lista tupla datos personales:\\n{lista_tuplas_datos_personales}\")\n",
    "print(\"------------------------------------\")\n",
    "print(f\"Lista tupla valoraciones:\\n{lista_tuplas_valoraciones}\")\n",
    "print(\"------------------------------------\")\n",
    "print(f\"Lista tupla salarios:\\n{lista_tuplas_salarios}\")\n",
    "print(\"------------------------------------\")\n",
    "print(f\"Lista tupla gestión empresa:\\n{lista_tuplas_empresa}\")"
   ]
  },
  {
   "cell_type": "code",
   "execution_count": null,
   "metadata": {},
   "outputs": [],
   "source": [
    "def insertar_datos_personales(lista_tuplas):\n",
    "  #Insertar Datos personales a BBDD 'empleados'\n",
    "\n",
    "  # Recuperamos la contraseña del .env\n",
    "  contrasena = os.environ.get('contrasena')\n",
    "  \n",
    "  try:\n",
    "    cnx = mysql.connector.connect(user='root', password=contrasena,\n",
    "                                host='localhost',\n",
    "                                database='empleados')\n",
    "    \n",
    "  # en caso de que no lo consigas por que hay algún error entonces ...\n",
    "  except mysql.connector.Error as err:\n",
    "\n",
    "    # si es un error con la contraseña devuelveme un mensaje de acceso denegado ya que tenemos problemas con la contraseña\n",
    "    if err.errno == errorcode.ER_ACCESS_DENIED_ERROR:\n",
    "      print(\"Something is wrong with your user name or password\")\n",
    "    \n",
    "    # si el error no tiene que ver con la contraseña, puede ser porque la base de datos no exista, devuelveme un mensaje de que la base de datos no existe\n",
    "    elif err.errno == errorcode.ER_BAD_DB_ERROR:\n",
    "      print(\"Database does not exist\")\n",
    "    \n",
    "    # si no es por ninguno de los errores anteriores, printeame cual es el error que estoy teniendo en mi conexión\n",
    "    else:\n",
    "      print(err)\n",
    "\n",
    "  mycursor = cnx.cursor()\n",
    "\n",
    "  sql_empleados = \"INSERT INTO datos_personales (employee_number, age, date_birth, gender, marital_status, distance_from_home, num_companies_worked, total_working_years, education, education_field) VALUES (%s, %s, %s, %s, %s, %s, %s, %s, %s, %s)\"\n",
    "\n",
    "  try:\n",
    "      mycursor.executemany(sql_empleados, lista_tuplas)\n",
    "      cnx.commit()\n",
    "\n",
    "  except mysql.connector.Error as err:\n",
    "      print(err)\n",
    "      print(\"Error Code:\", err.errno)\n",
    "      print(\"SQLSTATE\", err.sqlstate)\n",
    "      print(\"Message\", err.msg)    \n",
    "  else:\n",
    "    cnx.close()\n",
    "  return mycursor.rowcount  "
   ]
  },
  {
   "cell_type": "code",
   "execution_count": null,
   "metadata": {},
   "outputs": [],
   "source": [
    "insertar_datos_personales(lista_tuplas_datos_personales)"
   ]
  },
  {
   "cell_type": "code",
   "execution_count": null,
   "metadata": {},
   "outputs": [],
   "source": [
    "def insertar_valoraciones(lista_tuplas):\n",
    "  #Insertar Datos personales a BBDD 'empleados'\n",
    "  try:\n",
    "    cnx = mysql.connector.connect(user='root', password='AlumnaAdalab',\n",
    "                                host='localhost',\n",
    "                                database='empleados')\n",
    "  # en caso de que no lo consigas por que hay algún error entonces ...\n",
    "  except mysql.connector.Error as err:\n",
    "\n",
    "    # si es un error con la contraseña devuelveme un mensaje de acceso denegado ya que tenemos problemas con la contraseña\n",
    "    if err.errno == errorcode.ER_ACCESS_DENIED_ERROR:\n",
    "      print(\"Something is wrong with your user name or password\")\n",
    "    \n",
    "    # si el error no tiene que ver con la contraseña, puede ser porque la base de datos no exista, devuelveme un mensaje de que la base de datos no existe\n",
    "    elif err.errno == errorcode.ER_BAD_DB_ERROR:\n",
    "      print(\"Database does not exist\")\n",
    "    \n",
    "    # si no es por ninguno de los errores anteriores, printeame cual es el error que estoy teniendo en mi conexión\n",
    "    else:\n",
    "      print(err)\n",
    "\n",
    "  mycursor = cnx.cursor()\n",
    "\n",
    "  sql_empleados = \"INSERT INTO valoraciones (employee_number, environment_satisfaction, job_involvement, job_satisfaction, performance_rating, relationship_satisfaction, work_life_balance) VALUES (%s, %s, %s, %s, %s, %s, %s)\"\n",
    "\n",
    "  try:\n",
    "      mycursor.executemany(sql_empleados, lista_tuplas)\n",
    "      cnx.commit()\n",
    "\n",
    "  except mysql.connector.Error as err:\n",
    "      print(err)\n",
    "      print(\"Error Code:\", err.errno)\n",
    "      print(\"SQLSTATE\", err.sqlstate)\n",
    "      print(\"Message\", err.msg)    \n",
    "  else:\n",
    "    cnx.close()\n",
    "  return mycursor.rowcount "
   ]
  },
  {
   "cell_type": "code",
   "execution_count": null,
   "metadata": {},
   "outputs": [],
   "source": [
    "def insertar_salarios(lista_tuplas):\n",
    "  #Insertar Datos personales a BBDD 'empleados'\n",
    "  try:\n",
    "    cnx = mysql.connector.connect(user='root', password='AlumnaAdalab',\n",
    "                                host='localhost',\n",
    "                                database='empleados')\n",
    "  # en caso de que no lo consigas por que hay algún error entonces ...\n",
    "  except mysql.connector.Error as err:\n",
    "\n",
    "    # si es un error con la contraseña devuelveme un mensaje de acceso denegado ya que tenemos problemas con la contraseña\n",
    "    if err.errno == errorcode.ER_ACCESS_DENIED_ERROR:\n",
    "      print(\"Something is wrong with your user name or password\")\n",
    "    \n",
    "    # si el error no tiene que ver con la contraseña, puede ser porque la base de datos no exista, devuelveme un mensaje de que la base de datos no existe\n",
    "    elif err.errno == errorcode.ER_BAD_DB_ERROR:\n",
    "      print(\"Database does not exist\")\n",
    "    \n",
    "    # si no es por ninguno de los errores anteriores, printeame cual es el error que estoy teniendo en mi conexión\n",
    "    else:\n",
    "      print(err)\n",
    "\n",
    "  mycursor = cnx.cursor()\n",
    "\n",
    "  sql_empleados = \"INSERT INTO salarios (employee_number, monthly_rate, percent_salary_hike, hourly_rate, daily_rate, monthly_income) VALUES (%s, %s, %s, %s, %s, %s)\"\n",
    "\n",
    "  try:\n",
    "      mycursor.executemany(sql_empleados, lista_tuplas)\n",
    "      cnx.commit()\n",
    "\n",
    "  except mysql.connector.Error as err:\n",
    "      print(err)\n",
    "      print(\"Error Code:\", err.errno)\n",
    "      print(\"SQLSTATE\", err.sqlstate)\n",
    "      print(\"Message\", err.msg)    \n",
    "  else:\n",
    "    cnx.close()\n",
    "  return mycursor.rowcount "
   ]
  },
  {
   "cell_type": "code",
   "execution_count": null,
   "metadata": {},
   "outputs": [],
   "source": [
    "def insertar_empresa(lista_tuplas):\n",
    "  #Insertar Datos personales a BBDD 'empleados'\n",
    "  try:\n",
    "    cnx = mysql.connector.connect(user='root', password='AlumnaAdalab',\n",
    "                                host='localhost',\n",
    "                                database='empleados')\n",
    "  # en caso de que no lo consigas por que hay algún error entonces ...\n",
    "  except mysql.connector.Error as err:\n",
    "\n",
    "    # si es un error con la contraseña devuelveme un mensaje de acceso denegado ya que tenemos problemas con la contraseña\n",
    "    if err.errno == errorcode.ER_ACCESS_DENIED_ERROR:\n",
    "      print(\"Something is wrong with your user name or password\")\n",
    "    \n",
    "    # si el error no tiene que ver con la contraseña, puede ser porque la base de datos no exista, devuelveme un mensaje de que la base de datos no existe\n",
    "    elif err.errno == errorcode.ER_BAD_DB_ERROR:\n",
    "      print(\"Database does not exist\")\n",
    "    \n",
    "    # si no es por ninguno de los errores anteriores, printeame cual es el error que estoy teniendo en mi conexión\n",
    "    else:\n",
    "      print(err)\n",
    "\n",
    "  mycursor = cnx.cursor()\n",
    "\n",
    "  sql_empleados = \"INSERT INTO gestion_interna_empresa (employee_number, attrition, business_travel, department, job_level, job_role, overtime, stock_option_level, training_times_last_year, years_at_company, years_since_last_promotion, years_with_curr_manager, remote_work) VALUES (%s, %s, %s, %s, %s, %s, %s, %s, %s, %s, %s, %s, %s)\"\n",
    "\n",
    "  try:\n",
    "      mycursor.executemany(sql_empleados, lista_tuplas)\n",
    "      cnx.commit()\n",
    "\n",
    "  except mysql.connector.Error as err:\n",
    "      print(err)\n",
    "      print(\"Error Code:\", err.errno)\n",
    "      print(\"SQLSTATE\", err.sqlstate)\n",
    "      print(\"Message\", err.msg)    \n",
    "  else:\n",
    "    cnx.close()\n",
    "  return mycursor.rowcount "
   ]
  },
  {
   "cell_type": "code",
   "execution_count": null,
   "metadata": {},
   "outputs": [],
   "source": [
    "insertar_valoraciones(lista_tuplas_valoraciones)"
   ]
  },
  {
   "cell_type": "code",
   "execution_count": null,
   "metadata": {},
   "outputs": [],
   "source": [
    "insertar_salarios(lista_tuplas_salarios)"
   ]
  },
  {
   "cell_type": "code",
   "execution_count": null,
   "metadata": {},
   "outputs": [],
   "source": [
    "insertar_empresa(lista_tuplas_empresa)"
   ]
  }
 ],
 "metadata": {
  "kernelspec": {
   "display_name": "base",
   "language": "python",
   "name": "python3"
  },
  "language_info": {
   "codemirror_mode": {
    "name": "ipython",
    "version": 3
   },
   "file_extension": ".py",
   "mimetype": "text/x-python",
   "name": "python",
   "nbconvert_exporter": "python",
   "pygments_lexer": "ipython3",
   "version": "3.9.7"
  }
 },
 "nbformat": 4,
 "nbformat_minor": 2
}
